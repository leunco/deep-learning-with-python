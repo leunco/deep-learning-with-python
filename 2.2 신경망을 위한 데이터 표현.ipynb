{
 "cells": [
  {
   "cell_type": "markdown",
   "metadata": {},
   "source": [
    "## 2.2 신경망을 위한 데이터 표현\n",
    "텐서(tensor)  \n",
    "- 다차원 넘파이 배열  \n",
    "- 머신 러닝의 기본 구성 요소  \n",
    "- 데이터를 위한 컨테이너(거의 항상 수치형 데이터를 다루기 있음)  \n",
    "- 임의의 차원 개수를 가지는 행렬의 일반화된 모습  \n",
    "(행렬 : 2D 텐서, 차원 = 축)"
   ]
  },
  {
   "cell_type": "markdown",
   "metadata": {},
   "source": [
    "### 2.2.1 스칼라(0D 텐서)"
   ]
  },
  {
   "cell_type": "markdown",
   "metadata": {},
   "source": [
    "스칼라 (= 스칼라 텐서, 0차원 텐서, 0D 텐서)\n",
    "- 하나의 숫자만 담고 있는 텐서\n",
    "- 축 개수(=rank) : 0"
   ]
  },
  {
   "cell_type": "code",
   "execution_count": 3,
   "metadata": {},
   "outputs": [
    {
     "data": {
      "text/plain": [
       "array(12)"
      ]
     },
     "execution_count": 3,
     "metadata": {},
     "output_type": "execute_result"
    }
   ],
   "source": [
    "import numpy as np\n",
    "x = np.array(12)\n",
    "x"
   ]
  },
  {
   "cell_type": "code",
   "execution_count": 4,
   "metadata": {},
   "outputs": [
    {
     "data": {
      "text/plain": [
       "0"
      ]
     },
     "execution_count": 4,
     "metadata": {},
     "output_type": "execute_result"
    }
   ],
   "source": [
    "x.ndim # 넘파이 배열의 축 개수 확인 가능"
   ]
  },
  {
   "cell_type": "markdown",
   "metadata": {},
   "source": [
    "### 2.2.2 벡터(1D 텐서)"
   ]
  },
  {
   "cell_type": "markdown",
   "metadata": {},
   "source": [
    "벡터 (= 1D 텐서)\n",
    "- 숫자의 배열\n",
    "- 축 개수 : 1"
   ]
  },
  {
   "cell_type": "code",
   "execution_count": 5,
   "metadata": {},
   "outputs": [
    {
     "data": {
      "text/plain": [
       "array([12,  3,  6, 14,  7])"
      ]
     },
     "execution_count": 5,
     "metadata": {},
     "output_type": "execute_result"
    }
   ],
   "source": [
    "x = np.array([12,3,6,14,7])\n",
    "x"
   ]
  },
  {
   "cell_type": "code",
   "execution_count": 6,
   "metadata": {},
   "outputs": [
    {
     "data": {
      "text/plain": [
       "1"
      ]
     },
     "execution_count": 6,
     "metadata": {},
     "output_type": "execute_result"
    }
   ],
   "source": [
    "x.ndim # 축 개수 확인"
   ]
  },
  {
   "cell_type": "markdown",
   "metadata": {},
   "source": [
    "- 위의 벡터는 5개의 원소를 가지고 있으므로 5차원 벡터\n",
    "- 5D 벡터(5개의 차원)와 5D 텐서(5개의 축)는 다르다!\n",
    "- 차원수(dimensionality)는 특정 축을 따라 놓인 원ㅅ노의 개수이거나 텐서의 축 개수를 의미한다."
   ]
  },
  {
   "cell_type": "markdown",
   "metadata": {},
   "source": [
    "### 2.2.3 행렬(2D 텐서)"
   ]
  },
  {
   "cell_type": "markdown",
   "metadata": {},
   "source": [
    "행렬 (= 2D 텐서)\n",
    "- 벡터의 배열\n",
    "- 축 개수 : 2(행, 열)"
   ]
  },
  {
   "cell_type": "code",
   "execution_count": 8,
   "metadata": {},
   "outputs": [
    {
     "data": {
      "text/plain": [
       "2"
      ]
     },
     "execution_count": 8,
     "metadata": {},
     "output_type": "execute_result"
    }
   ],
   "source": [
    "x = np.array([[5,78,2,3,0],\n",
    "             [6,79,3,35,1],\n",
    "             [7,80,4,36,2]])\n",
    "x.ndim"
   ]
  },
  {
   "cell_type": "markdown",
   "metadata": {},
   "source": [
    "### 2.2.4 3D 텐서와 고차원 텐서\n"
   ]
  },
  {
   "cell_type": "code",
   "execution_count": 12,
   "metadata": {},
   "outputs": [
    {
     "data": {
      "text/plain": [
       "3"
      ]
     },
     "execution_count": 12,
     "metadata": {},
     "output_type": "execute_result"
    }
   ],
   "source": [
    "x = np.array([[[5,78,2,34,0],\n",
    "               [6,79,3,35,1],\n",
    "               [7,80,4,36,2]],\n",
    "              [[5,78,2,34,0],\n",
    "               [6,79,3,35,1],\n",
    "               [7,80,4,36,2]],\n",
    "              [[5,78,2,34,0],\n",
    "               [6,79,3,35,1],\n",
    "               [7,80,4,36,2]]])\n",
    "x.ndim"
   ]
  },
  {
   "cell_type": "markdown",
   "metadata": {},
   "source": [
    "###  2.2.5 텐서의 핵심 속성"
   ]
  },
  {
   "cell_type": "markdown",
   "metadata": {},
   "source": [
    "1. 축의 개수(랭크) \n",
    "\n",
    "\n",
    "2. 크기(shape) : 텐서의 각 축을 따라 얼마나 많은 차원이 있는지를 나타낸 파있너의 튜플(tuple)  \n",
    "    ex. 2.2.4 예시\n",
    "    - 행렬의 크기 : (3,5)\n",
    "    - 3D 텐서의 크기 : (3,3,5)\n",
    "    - 벡터의 크기 : (5,)처럼 1개의 원소로 이루어진 튜플\n",
    "    \n",
    "    \n",
    "3. 데이터 타입 : 텐서에 포함된 데이터의 타입  \n",
    "    ex. float32, uint8, float 64 등  \n",
    "    - 텐서는 사전에 할당되어 연속된 메모리에 저장되어야 하기 때문에 넘파이 배열은 가변 길이의 문자열을 지원하지 않는다.  "
   ]
  },
  {
   "cell_type": "code",
   "execution_count": 15,
   "metadata": {},
   "outputs": [
    {
     "name": "stdout",
     "output_type": "stream",
     "text": [
      "3\n"
     ]
    }
   ],
   "source": [
    "from keras.datasets import mnist\n",
    "(train_images, train_labels),(test_images,test_labels) = mnist.load_data()\n",
    "\n",
    "print(train_images.ndim) # 축의 개수"
   ]
  },
  {
   "cell_type": "code",
   "execution_count": 16,
   "metadata": {},
   "outputs": [
    {
     "name": "stdout",
     "output_type": "stream",
     "text": [
      "(60000, 28, 28)\n"
     ]
    }
   ],
   "source": [
    "print(train_images.shape) # 배열의 크기"
   ]
  },
  {
   "cell_type": "code",
   "execution_count": 18,
   "metadata": {},
   "outputs": [
    {
     "name": "stdout",
     "output_type": "stream",
     "text": [
      "uint8\n"
     ]
    }
   ],
   "source": [
    "print(train_images.dtype) # 데이터 타입"
   ]
  },
  {
   "cell_type": "markdown",
   "metadata": {},
   "source": [
    "- 8비트 정수형 3D 텐서  \n",
    "( 28 * 28 크기의 정수 행렬 6만 개가 있는 배열)\n",
    "- 각 행렬은 하나의 흑백 이미지이며 행렬의 각 원소는 0부터 255 사이의 값을 가진다."
   ]
  },
  {
   "cell_type": "code",
   "execution_count": 21,
   "metadata": {},
   "outputs": [
    {
     "data": {
      "image/png": "[encoded data removed]",
      "text/plain": [
       "<Figure size 432x288 with 1 Axes>"
      ]
     },
     "metadata": {
      "needs_background": "light"
     },
     "output_type": "display_data"
    }
   ],
   "source": [
    "digit = train_images[4] # 다섯 번째 이미지\n",
    "\n",
    "import matplotlib.pyplot as plt\n",
    "plt.imshow(digit, cmap=plt.cm.binary)\n",
    "plt.show()"
   ]
  },
  {
   "cell_type": "markdown",
   "metadata": {},
   "source": [
    "### 2.2.6 넘파이로 텐서 조작하기"
   ]
  },
  {
   "cell_type": "code",
   "execution_count": 23,
   "metadata": {},
   "outputs": [
    {
     "name": "stdout",
     "output_type": "stream",
     "text": [
      "(90, 28, 28)\n"
     ]
    }
   ],
   "source": [
    "my_slice = train_images[10:100]\n",
    "print(my_slice.shape) # (90,28,28) 크기의 배열"
   ]
  },
  {
   "cell_type": "code",
   "execution_count": 25,
   "metadata": {},
   "outputs": [
    {
     "name": "stdout",
     "output_type": "stream",
     "text": [
      "(90, 28, 28)\n"
     ]
    }
   ],
   "source": [
    "my_slice = train_images[10:100, :, :] # :(콜론)은 전체 인덱스를 선택\n",
    "print(my_slice.shape)"
   ]
  },
  {
   "cell_type": "code",
   "execution_count": 26,
   "metadata": {},
   "outputs": [
    {
     "name": "stdout",
     "output_type": "stream",
     "text": [
      "(90, 28, 28)\n"
     ]
    }
   ],
   "source": [
    "# 각 배열의 축을 따라 슬라이싱의 시작 인덱스와 마지막 인덱스를 지정\n",
    "my_slice = train_images[10:100, 0:28, 0:28] \n",
    "print(my_slice.shape)"
   ]
  },
  {
   "cell_type": "code",
   "execution_count": 27,
   "metadata": {},
   "outputs": [],
   "source": [
    "# 14 * 14 픽셀 선택\n",
    "my_slice = train_images[:,14:,14:]"
   ]
  },
  {
   "cell_type": "markdown",
   "metadata": {},
   "source": [
    "### 2.2.7 배치 데이터"
   ]
  },
  {
   "cell_type": "markdown",
   "metadata": {},
   "source": [
    "- 일반적으로 딥러닝에서 사용하는 모든 데이터 텐서의 첫 번째 축은 샘플 축(sample axis)이다.(샘플 차원이라고도 한다)  \n",
    "- 딥러닝 모델은 한 번에 전체 데이터 셋을 처리하지 않는 대신 데이터를 작은 배치(batch)로 나눈다.  "
   ]
  },
  {
   "cell_type": "code",
   "execution_count": 31,
   "metadata": {},
   "outputs": [],
   "source": [
    "batch = train_images[:128]\n",
    "batch = train_images[128:256] # 다음 배치\n",
    "# batch = train_images[128*n : 128*(n+1)] # n번째 배치"
   ]
  },
  {
   "cell_type": "markdown",
   "metadata": {},
   "source": [
    "- 배치 데이터를 다룰 때 첫 번쨰 축(0번 축)을 배치 축(batch axis) 또는 배치 차원(batch dimension)이라 부르다."
   ]
  },
  {
   "cell_type": "markdown",
   "metadata": {},
   "source": [
    "### 2.2.8 텐서의 실제 사례"
   ]
  },
  {
   "cell_type": "markdown",
   "metadata": {},
   "source": [
    "1. 벡터 데이터 : (samples, features) 크기의 2D 텐서  \n",
    "2. 시계열 데이터 또는 시퀀스(sequence) 데이터 : (samples, timesteps, features) 크기의 3D 텐서  \n",
    "3. 이미지 : (samples, height, width, channels) 또는 (samples, channels, height, width) 크기의 4D 텐서  \n",
    "4. 동영상 : (samples, frames, height, width, channels) 또는 (samples, frames, channels, height, width) 크기의 5D 텐서     "
   ]
  },
  {
   "cell_type": "markdown",
   "metadata": {},
   "source": [
    "### 2.2.9 벡터 데이터\n",
    "- 첫 번째 축 : 샘플 축, 두 번쨰 축 : 특성 축  \n",
    "ex. 사람의 나이, 우편 번호, 소득으로 구성된 10만명의 인구 통계 데이터  \n",
    "-> (100000,3) 크기의 텐서에 저장될 수 있다."
   ]
  },
  {
   "cell_type": "markdown",
   "metadata": {},
   "source": [
    "### 2.2.10 시계열 데이터 또는 시퀀스 데이터"
   ]
  },
  {
   "cell_type": "markdown",
   "metadata": {},
   "source": [
    "- 데이터에서 시간이 중요할 때는 시간 축을 포함한 3D 텐서로 저장\n",
    "- 각 샘플은 벡터(2D 텐서)의 시퀀스로 인코딩되기 때문에 배치 데이터는 3D 텐서로 인코딩 될 예정 (아래 그림 참고)\n",
    "- 관례적으로 시간 축은 항상 두 번째 축(인덱스가 1인 축)\n",
    "<img src=\"https://tensorflowkorea.files.wordpress.com/2018/12/068.jpg?w=300&h=151\">\n",
    "- 관례적으로 시간의 흐름을 가로 방향으로 놓기 때문에 그림에서 시간 축이 세로 축(두번째 축)이 아닌 가로 축에 위치해 있다.(편의상 텐서 축의 순서와 맞지 않게 그려져 있음)"
   ]
  },
  {
   "cell_type": "markdown",
   "metadata": {},
   "source": [
    "예시\n",
    "1. 주식 가격 데이터 셋 \n",
    " - 1분마다 현재 주식 가격, 지난 1분 동안에 최고 가격과 최소 가격을 저장 => 특성 : 3    \n",
    " - 1분마다 데이터는 3D 벡터로 인코딩되고 하루 동안의 거래는 (390,3) 크기의 2D 텐서로 인코딩된다.  \n",
    "(하루의 거래 시간은 390분)  \n",
    " - 250일치의 데이터는 (250, 390, 3) 크기의 3D 텐서로 저장될 수 있다.  \n",
    "(1일치 데이터 : 하나의 샘플)  \n",
    "\n",
    "\n",
    "2. 트윗 데이터 셋 \n",
    " - 각 트윗은 128개의 알파벳으로 구성된 280개의 문자 시퀀스  \n",
    " - 각 문자가 128개의 크기인 이진 벡터로 인코딩될 수 있다. (여기서 이진 벡터는 해당 문자의 인덱스만 1이고 나머지는 모두 0인 벡터)  \n",
    " - 각 트윗은 (280, 128) 크기의 2D 텐서로 인코딩될 수 있다. (특성 : 128)  \n",
    " - 100만 개의 트윗으로 구성된 데이터셋은 (1000000,280,128) 크기의 3D 텐서에 저장"
   ]
  },
  {
   "cell_type": "markdown",
   "metadata": {},
   "source": [
    "### 2.2.11 이미지 데이터"
   ]
  },
  {
   "cell_type": "markdown",
   "metadata": {},
   "source": [
    "1. 이미지\n",
    "  - 이미지는 전형적으로 높이, 너비, 컬러 채널의 3차원으로 구성  \n",
    "  - 흑백 이미지는 하나의 컬러 채널만을 가지기 때문에 2D 텐서로 저장될 수 있지만 관례상 이미지 텐서는 항상 3D로 저장(흑백 이미지인 경우 컬러 채널의 크기는 1)  \n",
    "ex. 256 * 256 크기의 흑백 이미지에 대한 128개의 배치 : (128,256,256,1) 크기의 텐서  \n",
    "ex. 컬러 이미지에 대한 128개의 배치 : (128,256,256,3) 크기의 텐서  "
   ]
  },
  {
   "cell_type": "markdown",
   "metadata": {},
   "source": [
    "<img src=\"https://tensorflowkorea.files.wordpress.com/2018/12/069.jpg?w=300&h=287\">\n",
    "[그림] 4D 이미지 데이터 텐서(채널 우선 표기)\n",
    "\n",
    "\n",
    "2. 이미지 텐서의 크기를 지정하는 방식  \n",
    "  (1) 채널 마지막(channel-last) 방식  \n",
    "   - 텐서플로에서 사용  \n",
    "   - (samples, height, width, color_depth) : 컬러 채널의 깊이를 마지막에\n",
    "  \n",
    "  (2) 채널 우선(channel-first) 방식  \n",
    "   - 씨아노에서 사용  \n",
    "   - (samples, color_depth, height, width) : 컬러 채널의 깊이를 배치 축(=샘플 축)\n",
    "     ex. (128, 1, 256, 256)\n",
    "      \n",
    "     \n",
    "- 케라스 프레임워크는 두 형식을 모두 지원"
   ]
  },
  {
   "cell_type": "markdown",
   "metadata": {},
   "source": [
    "### 2.2.12 비디오 데이터"
   ]
  },
  {
   "cell_type": "markdown",
   "metadata": {},
   "source": [
    "- 5D 텐서\n",
    "- 하나의 비디오는 프레임의 연속이고 각 프레임은 하나의 컬러 이미지이다.\n",
    "  + 프레임 : (height, width, color_depth) 3D 텐서\n",
    "  + 프레임의 연속 : (frames, height, width, color_depth) 4D 텐서\n",
    "  + 여러 비디오의 배치 : (samples, frames, height, width, color_depth) 5D 텐서  \n",
    "  ex. 60초짜리 144 * 256 비디오 클립을 초당 4 프레임으로 샘플링하면 240프레임이 된다\n",
    "    - 위의 비디오 클립을 4개 가진 배치 : (4, 240, 144, 256, 3) 크기의 텐서에 저장"
   ]
  },
  {
   "cell_type": "code",
   "execution_count": null,
   "metadata": {},
   "outputs": [],
   "source": []
  }
 ],
 "metadata": {
  "kernelspec": {
   "display_name": "Python 3",
   "language": "python",
   "name": "python3"
  },
  "language_info": {
   "codemirror_mode": {
    "name": "ipython",
    "version": 3
   },
   "file_extension": ".py",
   "mimetype": "text/x-python",
   "name": "python",
   "nbconvert_exporter": "python",
   "pygments_lexer": "ipython3",
   "version": "3.7.3"
  }
 },
 "nbformat": 4,
 "nbformat_minor": 2
}
